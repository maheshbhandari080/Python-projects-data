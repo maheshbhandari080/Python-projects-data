{
 "cells": [
  {
   "cell_type": "code",
   "execution_count": 3,
   "id": "3d99b678",
   "metadata": {},
   "outputs": [
    {
     "name": "stdout",
     "output_type": "stream",
     "text": [
      "Error\n",
      "Finished\n"
     ]
    }
   ],
   "source": [
    "try:\n",
    "  variable = 10\n",
    "  print (10 / 0)\n",
    "except ZeroDivisionError:\n",
    "  print(\"Error\")\n",
    "print(\"Finished\")"
   ]
  },
  {
   "cell_type": "code",
   "execution_count": 2,
   "id": "06cf5cd7",
   "metadata": {},
   "outputs": [
    {
     "name": "stdout",
     "output_type": "stream",
     "text": [
      "Divided by zero\n"
     ]
    }
   ],
   "source": [
    "try:\n",
    "  meaning = 42\n",
    "  print(meaning / 0)\n",
    "  print(\"the meaning of life\")\n",
    "except (ValueError, TypeError):\n",
    "  print(\"ValueError or TypeError occurred\")\n",
    "except ZeroDivisionError:\n",
    "  print(\"Divided by zero\")"
   ]
  },
  {
   "cell_type": "code",
   "execution_count": 3,
   "id": "cc74af5f",
   "metadata": {},
   "outputs": [
    {
     "name": "stdout",
     "output_type": "stream",
     "text": [
      "1\n",
      "3\n"
     ]
    }
   ],
   "source": [
    "try:\n",
    "  print(1)\n",
    "except:\n",
    "  print(2)\n",
    "finally:\n",
    "  print(3)"
   ]
  },
  {
   "cell_type": "code",
   "execution_count": null,
   "id": "1b5a51ae",
   "metadata": {},
   "outputs": [],
   "source": []
  }
 ],
 "metadata": {
  "kernelspec": {
   "display_name": "Python 3 (ipykernel)",
   "language": "python",
   "name": "python3"
  },
  "language_info": {
   "codemirror_mode": {
    "name": "ipython",
    "version": 3
   },
   "file_extension": ".py",
   "mimetype": "text/x-python",
   "name": "python",
   "nbconvert_exporter": "python",
   "pygments_lexer": "ipython3",
   "version": "3.9.12"
  }
 },
 "nbformat": 4,
 "nbformat_minor": 5
}
