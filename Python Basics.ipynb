{
 "cells": [
  {
   "cell_type": "code",
   "execution_count": 1,
   "id": "1aad4fe7",
   "metadata": {},
   "outputs": [
    {
     "name": "stdout",
     "output_type": "stream",
     "text": [
      "No\n"
     ]
    }
   ],
   "source": [
    "x = 4\n",
    "y = 2\n",
    "if not 1 + 1 == y or x == 4 and 7 == 8:\n",
    "  print(\"Yes\")\n",
    "elif x > y:\n",
    "  print(\"No\")\n"
   ]
  },
  {
   "cell_type": "code",
   "execution_count": 2,
   "id": "f085ac94",
   "metadata": {},
   "outputs": [
    {
     "name": "stdout",
     "output_type": "stream",
     "text": [
      "4\n"
     ]
    }
   ],
   "source": [
    "nums = [5, 4, 3, 2, 1]\n",
    "print(nums[1])"
   ]
  },
  {
   "cell_type": "code",
   "execution_count": 3,
   "id": "c3fe6553",
   "metadata": {},
   "outputs": [
    {
     "name": "stdout",
     "output_type": "stream",
     "text": [
      "0\n",
      "['apple', 'cherry', 'banana', 'kiwi', 'lemon', 'pear', 'peach', 'avocado']\n"
     ]
    }
   ],
   "source": [
    "fruits = [\"apple\", \"cherry\", \"banana\", \"kiwi\",\n",
    " \"lemon\", \"pear\", \"peach\", \"avocado\"]\n",
    "num = int(input())\n",
    "#your code goes here\n",
    "if num > 7:\n",
    "    print(\"Wrong number\")\n",
    "else:\n",
    "    print(fruits)"
   ]
  },
  {
   "cell_type": "code",
   "execution_count": 4,
   "id": "b9a0569d",
   "metadata": {},
   "outputs": [
    {
     "name": "stdout",
     "output_type": "stream",
     "text": [
      "1\n",
      "cherry\n"
     ]
    }
   ],
   "source": [
    "fruits = [\"apple\", \"cherry\", \"banana\", \"kiwi\",\n",
    " \"lemon\", \"pear\", \"peach\", \"avocado\"]\n",
    "num = int(input())\n",
    "#your code goes here\n",
    "\n",
    "\n",
    "if num < 0 or num >= len(fruits):\n",
    "    print('Wrong number')\n",
    "else:\n",
    "    print(fruits[num])"
   ]
  },
  {
   "cell_type": "code",
   "execution_count": 5,
   "id": "60c73e4f",
   "metadata": {},
   "outputs": [
    {
     "data": {
      "text/plain": [
       "8"
      ]
     },
     "execution_count": 5,
     "metadata": {},
     "output_type": "execute_result"
    }
   ],
   "source": [
    "fruits = [\"apple\", \"cherry\", \"banana\", \"kiwi\",\n",
    " \"lemon\", \"pear\", \"peach\", \"avocado\"]\n",
    "len(fruits)"
   ]
  },
  {
   "cell_type": "code",
   "execution_count": 6,
   "id": "2ef35728",
   "metadata": {},
   "outputs": [
    {
     "data": {
      "text/plain": [
       "1"
      ]
     },
     "execution_count": 6,
     "metadata": {},
     "output_type": "execute_result"
    }
   ],
   "source": [
    "len([2,])"
   ]
  },
  {
   "cell_type": "code",
   "execution_count": 9,
   "id": "966c20ad",
   "metadata": {},
   "outputs": [
    {
     "name": "stdout",
     "output_type": "stream",
     "text": [
      "5\n",
      "2\n",
      "4\n"
     ]
    }
   ],
   "source": [
    "num = [5, 4, 3, [2], 1]\n",
    "print(num[0])\n",
    "print(num[3][0])\n",
    "print(num[1])"
   ]
  },
  {
   "cell_type": "code",
   "execution_count": null,
   "id": "b8f990b1",
   "metadata": {},
   "outputs": [],
   "source": [
    "nums = [1, 2, 3, 4, 5]\n",
    "nums[3] = nums[1]\n",
    "print(nums[3])"
   ]
  },
  {
   "cell_type": "code",
   "execution_count": null,
   "id": "0b82084a",
   "metadata": {},
   "outputs": [],
   "source": [
    "nums = [10, 9, 8, 7, 6, 5]\n",
    "nums[0] = nums[1] - 5\n",
    "if 4 in nums:\n",
    "  print(nums[3])\n",
    "else:\n",
    "  print(nums[4])"
   ]
  },
  {
   "cell_type": "code",
   "execution_count": null,
   "id": "e40d47d4",
   "metadata": {},
   "outputs": [],
   "source": [
    "letters = ['a', 'b', 'z']\n",
    "\n",
    " \"z\" \n",
    " letters:\n",
    "\n",
    "  print(\"Yes\")"
   ]
  },
  {
   "cell_type": "code",
   "execution_count": null,
   "id": "f4906502",
   "metadata": {},
   "outputs": [],
   "source": [
    "words = [\"hello\"]\n",
    "words.append(\"world\")\n",
    "print(words[1])"
   ]
  },
  {
   "cell_type": "code",
   "execution_count": null,
   "id": "1521e720",
   "metadata": {},
   "outputs": [],
   "source": [
    "items = [2, 4,6,8, 10, 12, 14]\n",
    "\n",
    "num = len(items) // 7\n",
    "print(num)"
   ]
  },
  {
   "cell_type": "code",
   "execution_count": null,
   "id": "365a93f6",
   "metadata": {},
   "outputs": [],
   "source": [
    "letters = [\"a\", \"b\", \"c\"]\n",
    "letters.append(\"d\")\n",
    "print(len(letters))"
   ]
  },
  {
   "cell_type": "code",
   "execution_count": null,
   "id": "8951d2a1",
   "metadata": {},
   "outputs": [],
   "source": [
    "nums = [9, 8, 7, 6, 5]\n",
    "nums.append(4)\n",
    "nums.insert(2, 11)\n",
    "print(len(nums))"
   ]
  },
  {
   "cell_type": "code",
   "execution_count": null,
   "id": "ddb5acf0",
   "metadata": {},
   "outputs": [],
   "source": [
    "items = int(input())\n",
    "days = int(input())\n",
    "\n",
    "count = 1\n",
    "\n",
    "while count <= days:\n",
    "    items *= 2\n",
    "    count += 1\n",
    "    \n",
    "result = items\n",
    "print(result)\n"
   ]
  },
  {
   "cell_type": "code",
   "execution_count": null,
   "id": "7ab2d41b",
   "metadata": {
    "scrolled": true
   },
   "outputs": [],
   "source": [
    "i = 3\n",
    "while i>=0:\n",
    "   print(i)\n",
    "   i = i - 1\n"
   ]
  },
  {
   "cell_type": "code",
   "execution_count": null,
   "id": "8007899f",
   "metadata": {},
   "outputs": [],
   "source": [
    "i = 5\n",
    "while True:\n",
    "    print(i)\n",
    "i = i - 1\n",
    "if i <= 2:\n",
    "    brea"
   ]
  },
  {
   "cell_type": "code",
   "execution_count": null,
   "id": "6a866e52",
   "metadata": {},
   "outputs": [],
   "source": [
    "i = 5\n",
    "while True:\n",
    "    print(i)\n",
    "    i = i - 1\n",
    "if i <= 2:\n",
    "break"
   ]
  },
  {
   "cell_type": "code",
   "execution_count": null,
   "id": "a2f503d2",
   "metadata": {},
   "outputs": [],
   "source": [
    "i = 5\n",
    "while True:\n",
    "  print(i)\n",
    "  i = i - 1\n",
    "  if i <= 2:\n",
    "    break"
   ]
  },
  {
   "cell_type": "code",
   "execution_count": null,
   "id": "39e13ca1",
   "metadata": {},
   "outputs": [],
   "source": [
    "letters = ['a','b','c']\n",
    "for l in letters:\n",
    "    print(l)"
   ]
  },
  {
   "cell_type": "code",
   "execution_count": null,
   "id": "8ea07f22",
   "metadata": {},
   "outputs": [],
   "source": [
    "list = [2, 3, 4, 5, 6, 7,8,9]\n",
    "\n",
    "for x in list:\n",
    "    if(x%2==1 and x>4):\n",
    "        print(x)\n",
    "        "
   ]
  },
  {
   "cell_type": "code",
   "execution_count": null,
   "id": "b6f051a1",
   "metadata": {},
   "outputs": [],
   "source": [
    "list = [1, 2, 3, 4, 5, 6, 7, 8, 9]\n",
    "\n",
    "sum = 0\n",
    "#your code goes here\n",
    "for x in list:\n",
    "    if(x == 1):\n",
    "        sum += 1\n",
    "      \n",
    "    print(sum)"
   ]
  },
  {
   "cell_type": "code",
   "execution_count": null,
   "id": "1be2cd9d",
   "metadata": {},
   "outputs": [],
   "source": [
    "nums = list(range(5))\n",
    "print(nums[4])"
   ]
  },
  {
   "cell_type": "code",
   "execution_count": null,
   "id": "5fb1a80a",
   "metadata": {},
   "outputs": [],
   "source": [
    "nums = list(range(5))\n",
    "\n",
    "#print(nums[4])\n"
   ]
  },
  {
   "cell_type": "code",
   "execution_count": null,
   "id": "a4a55cba",
   "metadata": {},
   "outputs": [],
   "source": [
    "nums = list(range(5, 8))\n",
    "print(len(nums))"
   ]
  },
  {
   "cell_type": "code",
   "execution_count": null,
   "id": "9a737183",
   "metadata": {},
   "outputs": [],
   "source": [
    "nums = list(range(3, 15, 3))\n",
    "print(nums[2])"
   ]
  },
  {
   "cell_type": "code",
   "execution_count": null,
   "id": "7ed144c0",
   "metadata": {},
   "outputs": [],
   "source": [
    "list = [1, 1, 2, 3, 5, 8, 13]\n",
    "print(list[list[4]])\n",
    "\n"
   ]
  },
  {
   "cell_type": "code",
   "execution_count": null,
   "id": "ad9e59e5",
   "metadata": {},
   "outputs": [],
   "source": [
    "for i in range(10):\n",
    "  if not i % 2 == 0:\n",
    "    print(i+1)\n",
    "    "
   ]
  },
  {
   "cell_type": "code",
   "execution_count": null,
   "id": "39d943e8",
   "metadata": {},
   "outputs": [],
   "source": [
    "while False:\n",
    "  print(\"Looping...\")"
   ]
  },
  {
   "cell_type": "code",
   "execution_count": null,
   "id": "40bb42ab",
   "metadata": {},
   "outputs": [],
   "source": [
    "letters = ['x', 'y', 'z']\n",
    "letters.insert(1, 'w')\n",
    "print(letters[2])\n"
   ]
  },
  {
   "cell_type": "code",
   "execution_count": null,
   "id": "9efd6b11",
   "metadata": {},
   "outputs": [],
   "source": [
    "def print_double(x):\n",
    "   print(2 * x)\n",
    "\n",
    "print_double(3)"
   ]
  },
  {
   "cell_type": "code",
   "execution_count": null,
   "id": "43eeb03d",
   "metadata": {},
   "outputs": [],
   "source": [
    "def print_numbers():\n",
    "  print(1)\n",
    "  print(2)\n",
    "  return\n",
    "  print(4)\n",
    "  print(6)"
   ]
  },
  {
   "cell_type": "code",
   "execution_count": null,
   "id": "65083e53",
   "metadata": {},
   "outputs": [],
   "source": [
    "def print_numbers():\n",
    "  print(1)\n",
    "  print(2)\n",
    "  return\n",
    "  print(4)\n",
    "  print(6)"
   ]
  },
  {
   "cell_type": "code",
   "execution_count": null,
   "id": "44cfb84a",
   "metadata": {},
   "outputs": [],
   "source": [
    "def shout(word):\n",
    "   return word + \"!\"\n",
    "speak = shout\n",
    "output = speak(\"shout\")\n",
    "print(output)"
   ]
  },
  {
   "cell_type": "code",
   "execution_count": null,
   "id": "c06e22ed",
   "metadata": {},
   "outputs": [],
   "source": [
    "import math as m\n",
    "print(m.sqrt(25))"
   ]
  },
  {
   "cell_type": "code",
   "execution_count": null,
   "id": "b9fa8cdd",
   "metadata": {},
   "outputs": [],
   "source": [
    "def sum(x):\n",
    "    \n",
    "    res+=i\n",
    "    res=0\n",
    "    for i in range(x):\n",
    "        return res\n",
    "    "
   ]
  },
  {
   "cell_type": "code",
   "execution_count": null,
   "id": "66665c2d",
   "metadata": {},
   "outputs": [],
   "source": [
    "def print_nums(x):\n",
    "  for i in range(x):\n",
    "    print(i)\n",
    "    return\n",
    "print_nums(10)"
   ]
  },
  {
   "cell_type": "code",
   "execution_count": null,
   "id": "4058ba7b",
   "metadata": {},
   "outputs": [],
   "source": [
    "def func(x):\n",
    "  res = 0\n",
    "  for i in range(x):\n",
    "     res += i\n",
    "  return res\n",
    "\n",
    "print(func(4))"
   ]
  },
  {
   "cell_type": "code",
   "execution_count": null,
   "id": "cfabdfe4",
   "metadata": {},
   "outputs": [],
   "source": [
    "print(\"7\" + 4)"
   ]
  },
  {
   "cell_type": "code",
   "execution_count": null,
   "id": "33cea9ea",
   "metadata": {},
   "outputs": [],
   "source": []
  }
 ],
 "metadata": {
  "kernelspec": {
   "display_name": "Python 3 (ipykernel)",
   "language": "python",
   "name": "python3"
  },
  "language_info": {
   "codemirror_mode": {
    "name": "ipython",
    "version": 3
   },
   "file_extension": ".py",
   "mimetype": "text/x-python",
   "name": "python",
   "nbconvert_exporter": "python",
   "pygments_lexer": "ipython3",
   "version": "3.9.12"
  }
 },
 "nbformat": 4,
 "nbformat_minor": 5
}
